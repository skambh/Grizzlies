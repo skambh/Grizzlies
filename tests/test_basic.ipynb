{
 "cells": [
  {
   "cell_type": "code",
   "execution_count": 3,
   "metadata": {},
   "outputs": [
    {
     "name": "stdout",
     "output_type": "stream",
     "text": [
      "Collecting Grizzlies\n",
      "  Downloading grizzlies-0.1.6.tar.gz (4.5 kB)\n",
      "  Preparing metadata (setup.py) ... \u001b[?25ldone\n",
      "\u001b[?25hCollecting flatten_json (from Grizzlies)\n",
      "  Downloading flatten_json-0.1.14-py3-none-any.whl.metadata (4.2 kB)\n",
      "Requirement already satisfied: six in /Users/shash/anaconda3/envs/cse584/lib/python3.12/site-packages (from flatten_json->Grizzlies) (1.17.0)\n",
      "Downloading flatten_json-0.1.14-py3-none-any.whl (8.0 kB)\n",
      "Building wheels for collected packages: Grizzlies\n",
      "  Building wheel for Grizzlies (setup.py) ... \u001b[?25ldone\n",
      "\u001b[?25h  Created wheel for Grizzlies: filename=grizzlies-0.1.6-py3-none-any.whl size=4819 sha256=4411d156ad200e45be9bb9f73c15d1f101389f49751d8b18f6331d27fca9c755\n",
      "  Stored in directory: /Users/shash/Library/Caches/pip/wheels/c1/25/f9/6aa0e7d4f1e5a8a62af5dff8de459f1d528f416c5a3a6c1864\n",
      "Successfully built Grizzlies\n",
      "Installing collected packages: flatten_json, Grizzlies\n",
      "Successfully installed Grizzlies-0.1.6 flatten_json-0.1.14\n",
      "Note: you may need to restart the kernel to use updated packages.\n"
     ]
    }
   ],
   "source": [
    "%pip install Grizzlies"
   ]
  },
  {
   "cell_type": "code",
   "execution_count": 3,
   "metadata": {},
   "outputs": [],
   "source": [
    "import grizzlies as gr"
   ]
  }
 ],
 "metadata": {
  "kernelspec": {
   "display_name": "cse584",
   "language": "python",
   "name": "python3"
  },
  "language_info": {
   "codemirror_mode": {
    "name": "ipython",
    "version": 3
   },
   "file_extension": ".py",
   "mimetype": "text/x-python",
   "name": "python",
   "nbconvert_exporter": "python",
   "pygments_lexer": "ipython3",
   "version": "3.12.9"
  }
 },
 "nbformat": 4,
 "nbformat_minor": 2
}
