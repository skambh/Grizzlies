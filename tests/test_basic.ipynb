{
 "cells": [
  {
   "cell_type": "code",
   "execution_count": 6,
   "metadata": {},
   "outputs": [
    {
     "name": "stdout",
     "output_type": "stream",
     "text": [
      "Package            Version     Editable project location\n",
      "------------------ ----------- --------------------------------------------------------\n",
      "appnope            0.1.4\n",
      "asttokens          3.0.0\n",
      "comm               0.2.2\n",
      "debugpy            1.8.11\n",
      "decorator          5.2.1\n",
      "exceptiongroup     1.2.2\n",
      "executing          2.1.0\n",
      "grizzlies          0.1         /Users/shash/Documents/Classes/WN25/CSE584/Grizzlies/src\n",
      "importlib_metadata 8.6.1\n",
      "ipykernel          6.29.5\n",
      "ipython            8.32.0\n",
      "jedi               0.19.2\n",
      "jupyter_client     8.6.3\n",
      "jupyter_core       5.7.2\n",
      "matplotlib-inline  0.1.7\n",
      "nest_asyncio       1.6.0\n",
      "numpy              2.2.3\n",
      "packaging          24.2\n",
      "pandas             2.2.3\n",
      "parso              0.8.4\n",
      "pexpect            4.9.0\n",
      "pickleshare        0.7.5\n",
      "pip                25.0\n",
      "platformdirs       4.3.6\n",
      "prompt_toolkit     3.0.50\n",
      "psutil             5.9.0\n",
      "ptyprocess         0.7.0\n",
      "pure_eval          0.2.3\n",
      "Pygments           2.19.1\n",
      "python-dateutil    2.9.0.post0\n",
      "pytz               2025.1\n",
      "pyzmq              26.2.0\n",
      "setuptools         75.8.0\n",
      "six                1.17.0\n",
      "stack_data         0.6.3\n",
      "tornado            6.4.2\n",
      "traitlets          5.14.3\n",
      "typing_extensions  4.12.2\n",
      "tzdata             2025.1\n",
      "wcwidth            0.2.13\n",
      "wheel              0.45.1\n",
      "zipp               3.21.0\n"
     ]
    }
   ],
   "source": [
    "!pip list"
   ]
  }
 ],
 "metadata": {
  "kernelspec": {
   "display_name": "cse584",
   "language": "python",
   "name": "python3"
  },
  "language_info": {
   "codemirror_mode": {
    "name": "ipython",
    "version": 3
   },
   "file_extension": ".py",
   "mimetype": "text/x-python",
   "name": "python",
   "nbconvert_exporter": "python",
   "pygments_lexer": "ipython3",
   "version": "3.10.16"
  }
 },
 "nbformat": 4,
 "nbformat_minor": 2
}
